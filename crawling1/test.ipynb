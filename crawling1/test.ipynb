{
 "cells": [
  {
   "cell_type": "code",
   "execution_count": null,
   "metadata": {},
   "outputs": [],
   "source": [
    "\n",
    "from selenium import webdriver\n",
    "import time\n",
    "\n",
    "class Crawler():\n",
    "    def __init__(self):\n",
    "        self.driver = webdriver.Chrome('crawling1\\chromedriver.exe')\n",
    "\n",
    "    def enter_url(self, url):\n",
    "        self.driver.get(url)\n",
    "\n",
    "    def scroll_down(self):\n",
    "        self.driver.execute_script(\"window.scrollTo(0,document.body.scrollHeight)\")\n",
    "\n",
    "    def scroll_up(self):\n",
    "        self.driver.execute_script(\"window.scrollTo(0,0)\")\n",
    "\n",
    "    def scroll_down_infinity(self):\n",
    "        prev_height = self.driver.execute_script(\"return document.body.scrollHeight\")\n",
    "\n",
    "        # 웹페이지 맨 아래까지 무한 스크롤\n",
    "        while True:\n",
    "            # 스크롤을 화면 가장 아래로 내린다\n",
    "            self.driver.execute_script(\"window.scrollTo(0,document.body.scrollHeight)\")\n",
    "            # 페이지 로딩 대기\n",
    "            time.sleep(2)\n",
    "            # 현재 문서 높이를 가져와서 저장\n",
    "            curr_height = self.driver.execute_script(\"return document.body.scrollHeight\")\n",
    "            if(curr_height == prev_height):   # 스크롤을 내렸음에도 이전 높이와 동일하다면 다 내린 것이기 때문에 break.\n",
    "                break\n",
    "            else:\n",
    "                prev_height = self.driver.execute_script(\"return document.body.scrollHeight\")\n",
    "    \n",
    "    def close(self):\n",
    "        self.driver.close()\n",
    "\n",
    "\n",
    "##클래스 상속한다.\n",
    "class Naver_crawler(Crawler):\n",
    "    def __init__(self):\n",
    "        super().__init__()\n",
    "    \n",
    "    def news\n",
    "\n",
    "    def image_crawler(self):"
   ]
  },
  {
   "cell_type": "code",
   "execution_count": null,
   "metadata": {},
   "outputs": [],
   "source": []
  }
 ],
 "metadata": {
  "interpreter": {
   "hash": "e36ef80e86c45787e090fee9389bc4733abda2b35b7888bb735c84a04723abfb"
  },
  "kernelspec": {
   "display_name": "Python 3.8.6 64-bit (system)",
   "name": "python3"
  },
  "language_info": {
   "codemirror_mode": {
    "name": "ipython",
    "version": 3
   },
   "file_extension": ".py",
   "mimetype": "text/x-python",
   "name": "python",
   "nbconvert_exporter": "python",
   "pygments_lexer": "ipython3",
   "version": "3.8.6"
  },
  "orig_nbformat": 4
 },
 "nbformat": 4,
 "nbformat_minor": 2
}
