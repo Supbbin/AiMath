{
 "cells": [
  {
   "cell_type": "code",
   "execution_count": 3,
   "metadata": {},
   "outputs": [],
   "source": [
    "import datetime\n",
    "\n",
    "def Timeday(몇일까지):\n",
    "    for i in range(몇일까지):\n",
    "        last_day = datetime.date.today() - datetime.timedelta('{}').format(몇일까지)"
   ]
  }
 ],
 "metadata": {
  "interpreter": {
   "hash": "e36ef80e86c45787e090fee9389bc4733abda2b35b7888bb735c84a04723abfb"
  },
  "kernelspec": {
   "display_name": "Python 3.8.6 64-bit (system)",
   "name": "python3"
  },
  "language_info": {
   "codemirror_mode": {
    "name": "ipython",
    "version": 3
   },
   "file_extension": ".py",
   "mimetype": "text/x-python",
   "name": "python",
   "nbconvert_exporter": "python",
   "pygments_lexer": "ipython3",
   "version": "3.8.6"
  },
  "orig_nbformat": 4
 },
 "nbformat": 4,
 "nbformat_minor": 2
}
